{
 "cells": [
  {
   "cell_type": "code",
   "execution_count": 1,
   "id": "125c768b",
   "metadata": {},
   "outputs": [],
   "source": [
    "#import the all suitable liberarys\n",
    "import numpy as np\n",
    "import pandas as pd\n",
    "import seaborn as sns\n",
    "import matplotlib.pyplot as plt\n",
    "%matplotlib inline"
   ]
  },
  {
   "cell_type": "code",
   "execution_count": 2,
   "id": "e78a76b4",
   "metadata": {},
   "outputs": [],
   "source": [
    "#to read the dataset\n",
    "df=pd.read_csv('hackthon.csv')"
   ]
  },
  {
   "cell_type": "code",
   "execution_count": 3,
   "id": "6370d8f4",
   "metadata": {},
   "outputs": [
    {
     "data": {
      "text/html": [
       "<div>\n",
       "<style scoped>\n",
       "    .dataframe tbody tr th:only-of-type {\n",
       "        vertical-align: middle;\n",
       "    }\n",
       "\n",
       "    .dataframe tbody tr th {\n",
       "        vertical-align: top;\n",
       "    }\n",
       "\n",
       "    .dataframe thead th {\n",
       "        text-align: right;\n",
       "    }\n",
       "</style>\n",
       "<table border=\"1\" class=\"dataframe\">\n",
       "  <thead>\n",
       "    <tr style=\"text-align: right;\">\n",
       "      <th></th>\n",
       "      <th>input</th>\n",
       "      <th>output</th>\n",
       "    </tr>\n",
       "  </thead>\n",
       "  <tbody>\n",
       "    <tr>\n",
       "      <th>0</th>\n",
       "      <td>-122.740667</td>\n",
       "      <td>-130.572085</td>\n",
       "    </tr>\n",
       "    <tr>\n",
       "      <th>1</th>\n",
       "      <td>-121.531419</td>\n",
       "      <td>-129.938929</td>\n",
       "    </tr>\n",
       "    <tr>\n",
       "      <th>2</th>\n",
       "      <td>-134.917019</td>\n",
       "      <td>-130.141832</td>\n",
       "    </tr>\n",
       "    <tr>\n",
       "      <th>3</th>\n",
       "      <td>-120.605951</td>\n",
       "      <td>-125.760932</td>\n",
       "    </tr>\n",
       "    <tr>\n",
       "      <th>4</th>\n",
       "      <td>-129.894781</td>\n",
       "      <td>-112.785214</td>\n",
       "    </tr>\n",
       "  </tbody>\n",
       "</table>\n",
       "</div>"
      ],
      "text/plain": [
       "        input      output\n",
       "0 -122.740667 -130.572085\n",
       "1 -121.531419 -129.938929\n",
       "2 -134.917019 -130.141832\n",
       "3 -120.605951 -125.760932\n",
       "4 -129.894781 -112.785214"
      ]
     },
     "execution_count": 3,
     "metadata": {},
     "output_type": "execute_result"
    }
   ],
   "source": [
    "df.head()"
   ]
  },
  {
   "cell_type": "code",
   "execution_count": 4,
   "id": "4b6abe42",
   "metadata": {},
   "outputs": [
    {
     "data": {
      "text/plain": [
       "input     1\n",
       "output    1\n",
       "dtype: int64"
      ]
     },
     "execution_count": 4,
     "metadata": {},
     "output_type": "execute_result"
    }
   ],
   "source": [
    "#to check the null present or not\n",
    "df.isnull().sum()"
   ]
  },
  {
   "cell_type": "code",
   "execution_count": 5,
   "id": "bc936cda",
   "metadata": {},
   "outputs": [],
   "source": [
    "#to fill null values by median imputation\n",
    "df['input']=df['input'].fillna(df['input'].median())\n",
    "df['output']=df['output'].fillna(df['output'].median())"
   ]
  },
  {
   "cell_type": "code",
   "execution_count": 6,
   "id": "793d1f5b",
   "metadata": {},
   "outputs": [
    {
     "data": {
      "text/plain": [
       "input     0\n",
       "output    0\n",
       "dtype: int64"
      ]
     },
     "execution_count": 6,
     "metadata": {},
     "output_type": "execute_result"
    }
   ],
   "source": [
    "df.isnull().sum() #so rectify the null values"
   ]
  },
  {
   "cell_type": "code",
   "execution_count": 7,
   "id": "e3ff0d01",
   "metadata": {},
   "outputs": [
    {
     "data": {
      "text/html": [
       "<div>\n",
       "<style scoped>\n",
       "    .dataframe tbody tr th:only-of-type {\n",
       "        vertical-align: middle;\n",
       "    }\n",
       "\n",
       "    .dataframe tbody tr th {\n",
       "        vertical-align: top;\n",
       "    }\n",
       "\n",
       "    .dataframe thead th {\n",
       "        text-align: right;\n",
       "    }\n",
       "</style>\n",
       "<table border=\"1\" class=\"dataframe\">\n",
       "  <thead>\n",
       "    <tr style=\"text-align: right;\">\n",
       "      <th></th>\n",
       "      <th>input</th>\n",
       "      <th>output</th>\n",
       "    </tr>\n",
       "  </thead>\n",
       "  <tbody>\n",
       "    <tr>\n",
       "      <th>count</th>\n",
       "      <td>1697.000000</td>\n",
       "      <td>1697.000000</td>\n",
       "    </tr>\n",
       "    <tr>\n",
       "      <th>mean</th>\n",
       "      <td>1.165257</td>\n",
       "      <td>-34.097671</td>\n",
       "    </tr>\n",
       "    <tr>\n",
       "      <th>std</th>\n",
       "      <td>78.982979</td>\n",
       "      <td>65.752922</td>\n",
       "    </tr>\n",
       "    <tr>\n",
       "      <th>min</th>\n",
       "      <td>-134.962839</td>\n",
       "      <td>-132.422167</td>\n",
       "    </tr>\n",
       "    <tr>\n",
       "      <th>25%</th>\n",
       "      <td>-63.386506</td>\n",
       "      <td>-80.026767</td>\n",
       "    </tr>\n",
       "    <tr>\n",
       "      <th>50%</th>\n",
       "      <td>10.195194</td>\n",
       "      <td>-50.470981</td>\n",
       "    </tr>\n",
       "    <tr>\n",
       "      <th>75%</th>\n",
       "      <td>70.264109</td>\n",
       "      <td>-11.000000</td>\n",
       "    </tr>\n",
       "    <tr>\n",
       "      <th>max</th>\n",
       "      <td>134.605775</td>\n",
       "      <td>134.425495</td>\n",
       "    </tr>\n",
       "  </tbody>\n",
       "</table>\n",
       "</div>"
      ],
      "text/plain": [
       "             input       output\n",
       "count  1697.000000  1697.000000\n",
       "mean      1.165257   -34.097671\n",
       "std      78.982979    65.752922\n",
       "min    -134.962839  -132.422167\n",
       "25%     -63.386506   -80.026767\n",
       "50%      10.195194   -50.470981\n",
       "75%      70.264109   -11.000000\n",
       "max     134.605775   134.425495"
      ]
     },
     "execution_count": 7,
     "metadata": {},
     "output_type": "execute_result"
    }
   ],
   "source": [
    "#to print the statistical analysis\n",
    "df.describe()"
   ]
  },
  {
   "cell_type": "code",
   "execution_count": 8,
   "id": "d549235a",
   "metadata": {},
   "outputs": [
    {
     "name": "stdout",
     "output_type": "stream",
     "text": [
      "<class 'pandas.core.frame.DataFrame'>\n",
      "RangeIndex: 1697 entries, 0 to 1696\n",
      "Data columns (total 2 columns):\n",
      " #   Column  Non-Null Count  Dtype  \n",
      "---  ------  --------------  -----  \n",
      " 0   input   1697 non-null   float64\n",
      " 1   output  1697 non-null   float64\n",
      "dtypes: float64(2)\n",
      "memory usage: 26.6 KB\n"
     ]
    }
   ],
   "source": [
    "df.info()"
   ]
  },
  {
   "cell_type": "code",
   "execution_count": 9,
   "id": "9b1c877a",
   "metadata": {},
   "outputs": [
    {
     "data": {
      "text/html": [
       "<div>\n",
       "<style scoped>\n",
       "    .dataframe tbody tr th:only-of-type {\n",
       "        vertical-align: middle;\n",
       "    }\n",
       "\n",
       "    .dataframe tbody tr th {\n",
       "        vertical-align: top;\n",
       "    }\n",
       "\n",
       "    .dataframe thead th {\n",
       "        text-align: right;\n",
       "    }\n",
       "</style>\n",
       "<table border=\"1\" class=\"dataframe\">\n",
       "  <thead>\n",
       "    <tr style=\"text-align: right;\">\n",
       "      <th></th>\n",
       "      <th>input</th>\n",
       "      <th>output</th>\n",
       "    </tr>\n",
       "  </thead>\n",
       "  <tbody>\n",
       "    <tr>\n",
       "      <th>input</th>\n",
       "      <td>1.000000</td>\n",
       "      <td>0.511748</td>\n",
       "    </tr>\n",
       "    <tr>\n",
       "      <th>output</th>\n",
       "      <td>0.511748</td>\n",
       "      <td>1.000000</td>\n",
       "    </tr>\n",
       "  </tbody>\n",
       "</table>\n",
       "</div>"
      ],
      "text/plain": [
       "           input    output\n",
       "input   1.000000  0.511748\n",
       "output  0.511748  1.000000"
      ]
     },
     "execution_count": 9,
     "metadata": {},
     "output_type": "execute_result"
    }
   ],
   "source": [
    "df.corr() #51% correlated for input and output"
   ]
  },
  {
   "cell_type": "code",
   "execution_count": 10,
   "id": "b2e6b304",
   "metadata": {},
   "outputs": [
    {
     "data": {
      "text/plain": [
       "<AxesSubplot:>"
      ]
     },
     "execution_count": 10,
     "metadata": {},
     "output_type": "execute_result"
    },
    {
     "data": {
      "image/png": "[encoded data removed]",
      "text/plain": [
       "<Figure size 432x288 with 2 Axes>"
      ]
     },
     "metadata": {
      "needs_background": "light"
     },
     "output_type": "display_data"
    }
   ],
   "source": [
    "sns.heatmap(df.corr(),annot=True)"
   ]
  },
  {
   "cell_type": "code",
   "execution_count": 11,
   "id": "cd044846",
   "metadata": {},
   "outputs": [
    {
     "data": {
      "text/plain": [
       "<seaborn.axisgrid.PairGrid at 0x1f678d02a90>"
      ]
     },
     "execution_count": 11,
     "metadata": {},
     "output_type": "execute_result"
    },
    {
     "data": {
      "image/png": "[encoded data removed]",
      "text/plain": [
       "<Figure size 360x360 with 6 Axes>"
      ]
     },
     "metadata": {
      "needs_background": "light"
     },
     "output_type": "display_data"
    }
   ],
   "source": [
    "#print a pairplot\n",
    "sns.pairplot(df)"
   ]
  },
  {
   "cell_type": "markdown",
   "id": "e8c1dddd",
   "metadata": {},
   "source": [
    "from the above observation there is a positive correlation between the input feature and output feature"
   ]
  },
  {
   "cell_type": "markdown",
   "id": "7200826b",
   "metadata": {},
   "source": [
    "### feature engineering"
   ]
  },
  {
   "cell_type": "markdown",
   "id": "a8b7f63d",
   "metadata": {},
   "source": [
    "- first conclude that whether our data is in normally distributed arev not"
   ]
  },
  {
   "cell_type": "code",
   "execution_count": 12,
   "id": "127ede27",
   "metadata": {},
   "outputs": [
    {
     "data": {
      "text/plain": [
       "<AxesSubplot:xlabel='input', ylabel='Count'>"
      ]
     },
     "execution_count": 12,
     "metadata": {},
     "output_type": "execute_result"
    },
    {
     "data": {
      "image/png": "[encoded data removed]",
      "text/plain": [
       "<Figure size 432x288 with 1 Axes>"
      ]
     },
     "metadata": {
      "needs_background": "light"
     },
     "output_type": "display_data"
    }
   ],
   "source": [
    "sns.histplot(df['input'],kde=True)"
   ]
  },
  {
   "cell_type": "markdown",
   "id": "a838f595",
   "metadata": {},
   "source": [
    "- here we confused whether it is anormal distributed are not\n",
    "- so draw a Q-Q plot"
   ]
  },
  {
   "cell_type": "code",
   "execution_count": 13,
   "id": "303d72e3",
   "metadata": {},
   "outputs": [],
   "source": [
    "#for that import the scipy module\n",
    "import scipy.stats as stat\n",
    "import pylab"
   ]
  },
  {
   "cell_type": "code",
   "execution_count": 14,
   "id": "4147f2d4",
   "metadata": {},
   "outputs": [
    {
     "data": {
      "text/plain": [
       "((array([-3.34705771, -3.09284379, -2.95165276, ...,  2.95165276,\n",
       "          3.09284379,  3.34705771]),\n",
       "  array([-134.9628386, -134.9628386, -134.917019 , ...,  134.4631809,\n",
       "          134.4631809,  134.6057752])),\n",
       " (76.82252731018792, 1.1652569006340712, 0.971235670884329))"
      ]
     },
     "execution_count": 14,
     "metadata": {},
     "output_type": "execute_result"
    },
    {
     "data": {
      "image/png": "[encoded data removed]",
      "text/plain": [
       "<Figure size 432x288 with 1 Axes>"
      ]
     },
     "metadata": {
      "needs_background": "light"
     },
     "output_type": "display_data"
    }
   ],
   "source": [
    "stat.probplot(df['input'],dist='norm',plot=pylab) #it is better"
   ]
  },
  {
   "cell_type": "markdown",
   "id": "2e847ca3",
   "metadata": {},
   "source": [
    "### outliers detection"
   ]
  },
  {
   "cell_type": "code",
   "execution_count": 15,
   "id": "4c0dd0b7",
   "metadata": {},
   "outputs": [
    {
     "name": "stderr",
     "output_type": "stream",
     "text": [
      "C:\\Users\\saika\\anaconda3\\lib\\site-packages\\seaborn\\_decorators.py:36: FutureWarning: Pass the following variable as a keyword arg: x. From version 0.12, the only valid positional argument will be `data`, and passing other arguments without an explicit keyword will result in an error or misinterpretation.\n",
      "  warnings.warn(\n"
     ]
    },
    {
     "data": {
      "text/plain": [
       "<AxesSubplot:xlabel='input'>"
      ]
     },
     "execution_count": 15,
     "metadata": {},
     "output_type": "execute_result"
    },
    {
     "data": {
      "image/png": "[encoded data removed]",
      "text/plain": [
       "<Figure size 432x288 with 1 Axes>"
      ]
     },
     "metadata": {
      "needs_background": "light"
     },
     "output_type": "display_data"
    }
   ],
   "source": [
    "#for that we print boxplot\n",
    "sns.boxplot(df['input'])"
   ]
  },
  {
   "cell_type": "markdown",
   "id": "cb71fcff",
   "metadata": {},
   "source": [
    "#### obseravtion:\n",
    "- from the above observation we conclude that there is no outlier present in in it   "
   ]
  },
  {
   "cell_type": "markdown",
   "id": "c6fbc225",
   "metadata": {},
   "source": [
    "### feature engineering"
   ]
  },
  {
   "cell_type": "markdown",
   "id": "3490f7ca",
   "metadata": {},
   "source": [
    "- first we apply the transformations techniques\n",
    "1. standard scaler"
   ]
  },
  {
   "cell_type": "code",
   "execution_count": 16,
   "id": "edc473ea",
   "metadata": {},
   "outputs": [],
   "source": [
    "#for that we import the sklearn liberary in standard scaler()\n",
    "from sklearn.preprocessing import StandardScaler"
   ]
  },
  {
   "cell_type": "code",
   "execution_count": 19,
   "id": "83054649",
   "metadata": {},
   "outputs": [],
   "source": [
    "sc=StandardScaler()\n",
    "data=pd.DataFrame(sc.fit_transform(df),columns=df.columns)"
   ]
  },
  {
   "cell_type": "code",
   "execution_count": 20,
   "id": "d374ef0a",
   "metadata": {},
   "outputs": [
    {
     "data": {
      "text/html": [
       "<div>\n",
       "<style scoped>\n",
       "    .dataframe tbody tr th:only-of-type {\n",
       "        vertical-align: middle;\n",
       "    }\n",
       "\n",
       "    .dataframe tbody tr th {\n",
       "        vertical-align: top;\n",
       "    }\n",
       "\n",
       "    .dataframe thead th {\n",
       "        text-align: right;\n",
       "    }\n",
       "</style>\n",
       "<table border=\"1\" class=\"dataframe\">\n",
       "  <thead>\n",
       "    <tr style=\"text-align: right;\">\n",
       "      <th></th>\n",
       "      <th>input</th>\n",
       "      <th>output</th>\n",
       "    </tr>\n",
       "  </thead>\n",
       "  <tbody>\n",
       "    <tr>\n",
       "      <th>0</th>\n",
       "      <td>-1.569230</td>\n",
       "      <td>-1.467659</td>\n",
       "    </tr>\n",
       "    <tr>\n",
       "      <th>1</th>\n",
       "      <td>-1.553915</td>\n",
       "      <td>-1.458027</td>\n",
       "    </tr>\n",
       "    <tr>\n",
       "      <th>2</th>\n",
       "      <td>-1.723440</td>\n",
       "      <td>-1.461113</td>\n",
       "    </tr>\n",
       "    <tr>\n",
       "      <th>3</th>\n",
       "      <td>-1.542194</td>\n",
       "      <td>-1.394467</td>\n",
       "    </tr>\n",
       "    <tr>\n",
       "      <th>4</th>\n",
       "      <td>-1.659834</td>\n",
       "      <td>-1.197068</td>\n",
       "    </tr>\n",
       "  </tbody>\n",
       "</table>\n",
       "</div>"
      ],
      "text/plain": [
       "      input    output\n",
       "0 -1.569230 -1.467659\n",
       "1 -1.553915 -1.458027\n",
       "2 -1.723440 -1.461113\n",
       "3 -1.542194 -1.394467\n",
       "4 -1.659834 -1.197068"
      ]
     },
     "execution_count": 20,
     "metadata": {},
     "output_type": "execute_result"
    }
   ],
   "source": [
    "data.head()"
   ]
  },
  {
   "cell_type": "code",
   "execution_count": 23,
   "id": "5feb2cc3",
   "metadata": {},
   "outputs": [
    {
     "data": {
      "text/plain": [
       "((array([-3.34705771, -3.09284379, -2.95165276, ...,  2.95165276,\n",
       "          3.09284379,  3.34705771]),\n",
       "  array([-134.9628386, -134.9628386, -134.917019 , ...,  134.4631809,\n",
       "          134.4631809,  134.6057752])),\n",
       " (76.82252731018792, 1.1652569006340712, 0.971235670884329))"
      ]
     },
     "execution_count": 23,
     "metadata": {},
     "output_type": "execute_result"
    },
    {
     "data": {
      "image/png": "[encoded data removed]",
      "text/plain": [
       "<Figure size 720x432 with 2 Axes>"
      ]
     },
     "metadata": {
      "needs_background": "light"
     },
     "output_type": "display_data"
    }
   ],
   "source": [
    "# now we visulize the data\n",
    "plt.figure(figsize=(10,6))\n",
    "plt.subplot(1,2,1)\n",
    "plt.hist(df['input'])\n",
    "plt.subplot(1,2,2)\n",
    "stat.probplot(df['input'],dist='norm',plot=pylab)"
   ]
  },
  {
   "cell_type": "markdown",
   "id": "5b3e391a",
   "metadata": {},
   "source": [
    "##### observations:\n",
    "- from above observations we apply gussian transformations\n",
    "- it is not a skewed data then we donot applt logarithmic transformation"
   ]
  },
  {
   "cell_type": "markdown",
   "id": "4adc2601",
   "metadata": {},
   "source": [
    "#### 1.reciprocal transformation"
   ]
  },
  {
   "cell_type": "code",
   "execution_count": 39,
   "id": "8e8b3783",
   "metadata": {},
   "outputs": [
    {
     "data": {
      "text/plain": [
       "((array([-3.34705771, -3.09284379, -2.95165276, ...,  2.95165276,\n",
       "          3.09284379,  3.34705771]),\n",
       "  array([-1018.66443829,  -211.21546978,  -150.66711963, ...,\n",
       "           130.72799966,   130.72799966,   138.2631088 ])),\n",
       " (9.669114770579137, -0.15735419420861138, 0.34559368083185554))"
      ]
     },
     "execution_count": 39,
     "metadata": {},
     "output_type": "execute_result"
    },
    {
     "data": {
      "image/png": "[encoded data removed]",
      "text/plain": [
       "<Figure size 720x432 with 2 Axes>"
      ]
     },
     "metadata": {
      "needs_background": "light"
     },
     "output_type": "display_data"
    }
   ],
   "source": [
    "data['input_reci']=1/data['input']\n",
    "\n",
    "plt.figure(figsize=(10,6))\n",
    "plt.subplot(1,2,1)\n",
    "plt.hist(data['input_reci'])\n",
    "plt.subplot(1,2,2)\n",
    "stat.probplot(data['input_reci'],dist='norm',plot=pylab)\n"
   ]
  },
  {
   "cell_type": "markdown",
   "id": "86eb63cf",
   "metadata": {},
   "source": [
    "#### observations\n",
    "- from above observation the reciprocal transformation is worst\n",
    "- so,we can do another transformation"
   ]
  },
  {
   "cell_type": "markdown",
   "id": "d821b3fb",
   "metadata": {},
   "source": [
    "#### 2.square root transformation"
   ]
  },
  {
   "cell_type": "code",
   "execution_count": 34,
   "id": "d4abf10b",
   "metadata": {},
   "outputs": [],
   "source": [
    "data['input_square']=data['input']**(1/2)"
   ]
  },
  {
   "cell_type": "code",
   "execution_count": 41,
   "id": "d71a542d",
   "metadata": {},
   "outputs": [
    {
     "data": {
      "text/plain": [
       "((array([-3.34705771, -3.09284379, -2.95165276, ...,  2.95165276,\n",
       "          3.09284379,  3.34705771]),\n",
       "  array([0.08504462, 0.08746125, 0.08746125, ...,        nan,        nan,\n",
       "                nan])),\n",
       " (nan, nan, nan))"
      ]
     },
     "execution_count": 41,
     "metadata": {},
     "output_type": "execute_result"
    },
    {
     "data": {
      "image/png": "[encoded data removed]",
      "text/plain": [
       "<Figure size 720x432 with 2 Axes>"
      ]
     },
     "metadata": {
      "needs_background": "light"
     },
     "output_type": "display_data"
    }
   ],
   "source": [
    "plt.figure(figsize=(10,6))\n",
    "plt.subplot(1,2,1)\n",
    "plt.hist(data['input_square'])\n",
    "plt.subplot(1,2,2)\n",
    "stat.probplot(data['input_square'],dist='norm',plot=pylab)\n",
    " "
   ]
  },
  {
   "cell_type": "markdown",
   "id": "d549874d",
   "metadata": {},
   "source": [
    "#### observations :\n",
    "- from the above observation it is also not normally distributed\n",
    "- we check another tranformation"
   ]
  },
  {
   "cell_type": "markdown",
   "id": "89f85795",
   "metadata": {},
   "source": [
    "#### 4.exponential tranformation"
   ]
  },
  {
   "cell_type": "code",
   "execution_count": 40,
   "id": "fc099017",
   "metadata": {},
   "outputs": [
    {
     "data": {
      "text/plain": [
       "((array([-3.34705771, -3.09284379, -2.95165276, ...,  2.95165276,\n",
       "          3.09284379,  3.34705771]),\n",
       "  array([0.01644667, 0.01723294, 0.01723294, ...,        nan,        nan,\n",
       "                nan])),\n",
       " (nan, nan, nan))"
      ]
     },
     "execution_count": 40,
     "metadata": {},
     "output_type": "execute_result"
    },
    {
     "data": {
      "image/png": "[encoded data removed]",
      "text/plain": [
       "<Figure size 720x432 with 2 Axes>"
      ]
     },
     "metadata": {
      "needs_background": "light"
     },
     "output_type": "display_data"
    }
   ],
   "source": [
    "data['input_exp']=data.input**(1/1.2)\n",
    "plt.figure(figsize=(10,6))\n",
    "plt.subplot(1,2,1)\n",
    "plt.hist(data['input_exp'])\n",
    "plt.subplot(1,2,2)\n",
    "stat.probplot(data['input_exp'],dist='norm',plot=pylab)"
   ]
  },
  {
   "cell_type": "markdown",
   "id": "49df1405",
   "metadata": {},
   "source": [
    "#### observations:\n",
    "- it is best when compared to the reciprocal and square root transformation\n",
    "- next go to boxcox tranformation"
   ]
  },
  {
   "cell_type": "markdown",
   "id": "8e716aeb",
   "metadata": {},
   "source": [
    "#### 4. boxcox transformation\n",
    "- the boxcox transformation is not done for negative values\n",
    "- so here we cannot do boxcox transformation"
   ]
  },
  {
   "cell_type": "markdown",
   "id": "46906f50",
   "metadata": {},
   "source": [
    "### overall observations from feature engineering is :\n",
    "- no need to applied gussian transformations tecniques.\n",
    "- here the the orginal observation is the best when comapared to the other observations"
   ]
  },
  {
   "cell_type": "markdown",
   "id": "33e810f8",
   "metadata": {},
   "source": [
    "##### algorithm selection"
   ]
  },
  {
   "cell_type": "code",
   "execution_count": 45,
   "id": "534ac9cd",
   "metadata": {},
   "outputs": [],
   "source": [
    "\n",
    "data.drop(['input_reci','input_square','input_exp'],axis=1,inplace=True)"
   ]
  },
  {
   "cell_type": "code",
   "execution_count": 46,
   "id": "5d48f04e",
   "metadata": {},
   "outputs": [
    {
     "data": {
      "text/html": [
       "<div>\n",
       "<style scoped>\n",
       "    .dataframe tbody tr th:only-of-type {\n",
       "        vertical-align: middle;\n",
       "    }\n",
       "\n",
       "    .dataframe tbody tr th {\n",
       "        vertical-align: top;\n",
       "    }\n",
       "\n",
       "    .dataframe thead th {\n",
       "        text-align: right;\n",
       "    }\n",
       "</style>\n",
       "<table border=\"1\" class=\"dataframe\">\n",
       "  <thead>\n",
       "    <tr style=\"text-align: right;\">\n",
       "      <th></th>\n",
       "      <th>input</th>\n",
       "      <th>output</th>\n",
       "    </tr>\n",
       "  </thead>\n",
       "  <tbody>\n",
       "    <tr>\n",
       "      <th>0</th>\n",
       "      <td>-1.569230</td>\n",
       "      <td>-1.467659</td>\n",
       "    </tr>\n",
       "    <tr>\n",
       "      <th>1</th>\n",
       "      <td>-1.553915</td>\n",
       "      <td>-1.458027</td>\n",
       "    </tr>\n",
       "    <tr>\n",
       "      <th>2</th>\n",
       "      <td>-1.723440</td>\n",
       "      <td>-1.461113</td>\n",
       "    </tr>\n",
       "    <tr>\n",
       "      <th>3</th>\n",
       "      <td>-1.542194</td>\n",
       "      <td>-1.394467</td>\n",
       "    </tr>\n",
       "    <tr>\n",
       "      <th>4</th>\n",
       "      <td>-1.659834</td>\n",
       "      <td>-1.197068</td>\n",
       "    </tr>\n",
       "  </tbody>\n",
       "</table>\n",
       "</div>"
      ],
      "text/plain": [
       "      input    output\n",
       "0 -1.569230 -1.467659\n",
       "1 -1.553915 -1.458027\n",
       "2 -1.723440 -1.461113\n",
       "3 -1.542194 -1.394467\n",
       "4 -1.659834 -1.197068"
      ]
     },
     "execution_count": 46,
     "metadata": {},
     "output_type": "execute_result"
    }
   ],
   "source": [
    "data.head()"
   ]
  },
  {
   "cell_type": "code",
   "execution_count": 47,
   "id": "548b631f",
   "metadata": {},
   "outputs": [],
   "source": [
    "#we divide the features into independent and dependent \n",
    "X=data.iloc[:,:-1]\n",
    "Y=data.iloc[:,-1]"
   ]
  },
  {
   "cell_type": "code",
   "execution_count": 49,
   "id": "086bdb90",
   "metadata": {},
   "outputs": [
    {
     "name": "stdout",
     "output_type": "stream",
     "text": [
      "(1272, 1) (425, 1) (1272,) (425,)\n"
     ]
    }
   ],
   "source": [
    "#for that we split the data into train and test split\n",
    "from sklearn.model_selection import train_test_split\n",
    "x_train,x_test,y_train,y_test=train_test_split(X,Y)\n",
    "print(x_train.shape,x_test.shape,y_train.shape,y_test.shape)"
   ]
  },
  {
   "cell_type": "code",
   "execution_count": 58,
   "id": "ab2b2086",
   "metadata": {},
   "outputs": [],
   "source": [
    "# it is a regresssion problem statement\n",
    "#so we import all regression liberarys\n",
    "from sklearn.linear_model import LinearRegression\n",
    "from sklearn.tree import DecisionTreeRegressor\n",
    "from sklearn.ensemble import RandomForestRegressor\n",
    "from sklearn.neighbors import KNeighborsRegressor\n",
    "from sklearn.metrics import mean_squared_error,mean_absolute_error"
   ]
  },
  {
   "cell_type": "code",
   "execution_count": 63,
   "id": "058925d3",
   "metadata": {},
   "outputs": [
    {
     "name": "stdout",
     "output_type": "stream",
     "text": [
      "LinearRegression\n",
      "model performance of training set\n",
      " model_train_squared_error :  0.7503877791854611\n",
      " model_train_absolute_error :  0.6492704397827604\n",
      "-----------------------------------------------------------\n",
      "Model performance of testing set\n",
      "model_test_squared_error :  0.702538220569332\n",
      " model_test_absolute_error :  0.6338471367439936\n",
      "======================================\n",
      "\n",
      "\n",
      "DecisionTree\n",
      "model performance of training set\n",
      " model_train_squared_error :  0.02906082827230314\n",
      " model_train_absolute_error :  0.026103460464429157\n",
      "-----------------------------------------------------------\n",
      "Model performance of testing set\n",
      "model_test_squared_error :  0.37065909570134137\n",
      " model_test_absolute_error :  0.2676248612500533\n",
      "======================================\n",
      "\n",
      "\n",
      "Random Forest\n",
      "model performance of training set\n",
      " model_train_squared_error :  0.06374020953260932\n",
      " model_train_absolute_error :  0.1181871250120126\n",
      "-----------------------------------------------------------\n",
      "Model performance of testing set\n",
      "model_test_squared_error :  0.3128182155431032\n",
      " model_test_absolute_error :  0.30046324833331567\n",
      "======================================\n",
      "\n",
      "\n"
     ]
    }
   ],
   "source": [
    "models={\n",
    "    'LinearRegression':LinearRegression(),\n",
    "    'DecisionTree':DecisionTreeRegressor(),\n",
    "    'Random Forest':RandomForestRegressor()\n",
    "    #'KNeighborsRegressor':KNeighborsRegressor(),\n",
    "    }\n",
    "for i in range(len(list(models))):\n",
    "    model=list(models.values())[i]\n",
    "    model.fit(x_train,y_train) #to train the model.\n",
    "    \n",
    "    #making predections\n",
    "    y_train_pred=model.predict(x_train)\n",
    "    y_test_pred=model.predict(x_test)\n",
    "    \n",
    "    #training_set performance\n",
    "    model_train_squared_error=mean_squared_error(y_train,y_train_pred)\n",
    "    model_train_absolute_error=mean_absolute_error(y_train,y_train_pred)\n",
    "    \n",
    "    \n",
    "    #test set performance\n",
    "    model_test_squared_error=mean_squared_error(y_test,y_test_pred)\n",
    "    model_test_absolute_error=mean_absolute_error(y_test,y_test_pred)\n",
    "    print(list(models.keys())[i])\n",
    "    \n",
    "    print('model performance of training set')\n",
    "    print(' model_train_squared_error : ', model_train_squared_error)\n",
    "    print(' model_train_absolute_error : ', model_train_absolute_error)\n",
    "    \n",
    "   \n",
    "    print('-----------------------------------------------------------')\n",
    "    \n",
    "    print('Model performance of testing set')\n",
    "    print('model_test_squared_error : ',model_test_squared_error)\n",
    "    print(' model_test_absolute_error : ', model_test_absolute_error)\n",
    "\n",
    "     \n",
    "    print('='*38)\n",
    "    print('\\n')\n",
    "    "
   ]
  },
  {
   "cell_type": "markdown",
   "id": "8a12626f",
   "metadata": {},
   "source": [
    "#### observations \n",
    "\n",
    "- from the above observation the decision tree regressor is best.\n",
    "\n",
    "- why not linear regression. \n",
    "\n",
    "  -->  because the input data is not distributed normally thats why they give large error\n",
    "    \n",
    "- why not random forest.\n",
    "\n",
    "   --> it is also give best accuracy but decision tree give best accuracy than random forest."
   ]
  },
  {
   "cell_type": "markdown",
   "id": "2f26cc42",
   "metadata": {},
   "source": [
    "### hyper parameter training\n"
   ]
  },
  {
   "cell_type": "code",
   "execution_count": 67,
   "id": "044e2c9d",
   "metadata": {},
   "outputs": [],
   "source": [
    "#here we can select decision tree regressor and then do hyper parameter tuning\n",
    "dt_params={'criterion': ['squared_error','friedman_mse','absolute_error'],\n",
    "           'splitter' : ['best','random'] ,\n",
    "            'max_features': ['auto', 'sqrt', 'log2'], \n",
    "             }\n"
   ]
  },
  {
   "cell_type": "code",
   "execution_count": 70,
   "id": "161698e9",
   "metadata": {},
   "outputs": [
    {
     "data": {
      "text/plain": [
       "DecisionTreeRegressor()"
      ]
     },
     "execution_count": 70,
     "metadata": {},
     "output_type": "execute_result"
    }
   ],
   "source": [
    "model=DecisionTreeRegressor()\n",
    "model.fit(x_train,y_train)"
   ]
  },
  {
   "cell_type": "code",
   "execution_count": 68,
   "id": "17a1cd01",
   "metadata": {},
   "outputs": [],
   "source": [
    "from sklearn.model_selection import RandomizedSearchCV\n"
   ]
  },
  {
   "cell_type": "code",
   "execution_count": 71,
   "id": "d4eff658",
   "metadata": {},
   "outputs": [],
   "source": [
    "  random=RandomizedSearchCV(estimator=model,\n",
    "                             param_distributions=dt_params,\n",
    "                             n_iter=100,\n",
    "                             cv=3,\n",
    "                             verbose=2,\n",
    "                             n_jobs=-1\n",
    "                             )"
   ]
  },
  {
   "cell_type": "code",
   "execution_count": 74,
   "id": "ec6602f0",
   "metadata": {},
   "outputs": [
    {
     "name": "stdout",
     "output_type": "stream",
     "text": [
      "Fitting 3 folds for each of 18 candidates, totalling 54 fits\n"
     ]
    },
    {
     "name": "stderr",
     "output_type": "stream",
     "text": [
      "C:\\Users\\saika\\anaconda3\\lib\\site-packages\\sklearn\\model_selection\\_search.py:292: UserWarning: The total space of parameters 18 is smaller than n_iter=100. Running 18 iterations. For exhaustive searches, use GridSearchCV.\n",
      "  warnings.warn(\n"
     ]
    },
    {
     "data": {
      "text/plain": [
       "{'splitter': 'random', 'max_features': 'log2', 'criterion': 'squared_error'}"
      ]
     },
     "execution_count": 74,
     "metadata": {},
     "output_type": "execute_result"
    }
   ],
   "source": [
    "#we print the best_params\n",
    "random.fit(x_train,y_train)\n",
    "random.best_params_"
   ]
  },
  {
   "cell_type": "code",
   "execution_count": 76,
   "id": "c0909c11",
   "metadata": {},
   "outputs": [
    {
     "data": {
      "text/plain": [
       "DecisionTreeRegressor(max_features='log2', splitter='random')"
      ]
     },
     "execution_count": 76,
     "metadata": {},
     "output_type": "execute_result"
    }
   ],
   "source": [
    "#the above params are best params\n",
    "model=DecisionTreeRegressor(splitter='random', max_features='log2', criterion='squared_error')\n",
    "model"
   ]
  },
  {
   "cell_type": "code",
   "execution_count": 77,
   "id": "ffa13b19",
   "metadata": {},
   "outputs": [
    {
     "data": {
      "text/plain": [
       "DecisionTreeRegressor(max_features='log2', splitter='random')"
      ]
     },
     "execution_count": 77,
     "metadata": {},
     "output_type": "execute_result"
    }
   ],
   "source": [
    "model.fit(x_train,y_train)"
   ]
  },
  {
   "cell_type": "code",
   "execution_count": 78,
   "id": "eec34c90",
   "metadata": {},
   "outputs": [],
   "source": [
    "# to predict the data\n",
    "y_pred=model.predict(x_test)"
   ]
  },
  {
   "cell_type": "code",
   "execution_count": 88,
   "id": "fbfbcd5c",
   "metadata": {},
   "outputs": [
    {
     "data": {
      "text/plain": [
       "0.35238590290052024"
      ]
     },
     "execution_count": 88,
     "metadata": {},
     "output_type": "execute_result"
    }
   ],
   "source": [
    "from sklearn.metrics import mean_squared_error,mean_absolute_error \n",
    "mean_squared_error(y_test,y_pred)\n"
   ]
  },
  {
   "cell_type": "code",
   "execution_count": 87,
   "id": "8b28fbe1",
   "metadata": {},
   "outputs": [
    {
     "data": {
      "text/plain": [
       "0.2575828854218586"
      ]
     },
     "execution_count": 87,
     "metadata": {},
     "output_type": "execute_result"
    }
   ],
   "source": [
    "mean_absolute_error(y_test,y_pred)"
   ]
  },
  {
   "cell_type": "markdown",
   "id": "ccfa7f45",
   "metadata": {},
   "source": [
    "### Linear regression"
   ]
  },
  {
   "cell_type": "code",
   "execution_count": 89,
   "id": "caf4bd96",
   "metadata": {},
   "outputs": [],
   "source": [
    "from sklearn.linear_model import LinearRegression"
   ]
  },
  {
   "cell_type": "code",
   "execution_count": 90,
   "id": "4a2910e9",
   "metadata": {},
   "outputs": [
    {
     "data": {
      "text/plain": [
       "LinearRegression()"
      ]
     },
     "execution_count": 90,
     "metadata": {},
     "output_type": "execute_result"
    }
   ],
   "source": [
    "model=LinearRegression()\n",
    "model.fit(x_train,y_train)"
   ]
  },
  {
   "cell_type": "code",
   "execution_count": 91,
   "id": "b173b0bd",
   "metadata": {},
   "outputs": [],
   "source": [
    "y_pred=model.predict(x_test)"
   ]
  },
  {
   "cell_type": "code",
   "execution_count": 92,
   "id": "38a9280b",
   "metadata": {},
   "outputs": [
    {
     "data": {
      "text/plain": [
       "0.702538220569332"
      ]
     },
     "execution_count": 92,
     "metadata": {},
     "output_type": "execute_result"
    }
   ],
   "source": [
    "from sklearn.metrics import mean_squared_error,mean_absolute_error \n",
    "mean_squared_error(y_test,y_pred)"
   ]
  },
  {
   "cell_type": "code",
   "execution_count": 93,
   "id": "08060348",
   "metadata": {},
   "outputs": [
    {
     "data": {
      "text/plain": [
       "0.6338471367439936"
      ]
     },
     "execution_count": 93,
     "metadata": {},
     "output_type": "execute_result"
    }
   ],
   "source": [
    "mean_absolute_error(y_test,y_pred)"
   ]
  },
  {
   "cell_type": "markdown",
   "id": "f147fc50",
   "metadata": {},
   "source": [
    "### FINAL OBSERVATIONS\n",
    " \n",
    "- from above all algorithms the decision tree regressor is the best.\n",
    "- because it reduces the mean absolute and mean squared error.\n",
    "- linear regression gives maximum absolute and square error."
   ]
  },
  {
   "cell_type": "code",
   "execution_count": null,
   "id": "1d8828c6",
   "metadata": {},
   "outputs": [],
   "source": []
  }
 ],
 "metadata": {
  "kernelspec": {
   "display_name": "Python 3 (ipykernel)",
   "language": "python",
   "name": "python3"
  },
  "language_info": {
   "codemirror_mode": {
    "name": "ipython",
    "version": 3
   },
   "file_extension": ".py",
   "mimetype": "text/x-python",
   "name": "python",
   "nbconvert_exporter": "python",
   "pygments_lexer": "ipython3",
   "version": "3.9.12"
  }
 },
 "nbformat": 4,
 "nbformat_minor": 5
}
